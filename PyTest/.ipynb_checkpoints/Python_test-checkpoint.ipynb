{
 "cells": [
  {
   "cell_type": "markdown",
   "metadata": {},
   "source": [
    "## General  ##\n",
    "I. \tWhat's wrong with:  \n",
    "\t\t`my_dict = {['key']:1}`?\n",
    "\t\n",
    "    \n",
    "   What is the error type and why doesn't this work?\n",
    "\n",
    "** Answer **\n",
    "\n",
    "The error is a `TypeError` as we cannot use a list as the key in a dict, dict keys need to be immutable. We can use int(), float(), str(), tuple(), frozenset(), bytes() values instead."
   ]
  },
  {
   "cell_type": "markdown",
   "metadata": {},
   "source": [
    "II. Recreate the array below using list comprehension\n",
    "\t\t\n",
    "\t\tdata = [0,1,2,3,4,5,6,7,8,9,10]\n",
    "        \n",
    "** Answer **"
   ]
  },
  {
   "cell_type": "code",
   "execution_count": 3,
   "metadata": {
    "collapsed": false
   },
   "outputs": [
    {
     "data": {
      "text/plain": [
       "[0, 1, 2, 3, 4, 5, 6, 7, 8, 9, 10]"
      ]
     },
     "execution_count": 3,
     "metadata": {},
     "output_type": "execute_result"
    }
   ],
   "source": [
    "data = [i for i in xrange(0,11)]\n",
    "data"
   ]
  },
  {
   "cell_type": "markdown",
   "metadata": {},
   "source": [
    "III. Using lambda, map, and reduce create the following given the array below\n",
    "\t\t\n",
    "\t\tdata = [0,1,2,3,4,5,6,7,8,9,10]\n",
    "\t\t\n",
    "\t\t1) list of integers multiplied by 3\n",
    "\t\t2) sum of all the values in the original array\n",
    "        \n",
    "** Answer **"
   ]
  },
  {
   "cell_type": "code",
   "execution_count": 4,
   "metadata": {
    "collapsed": false
   },
   "outputs": [
    {
     "data": {
      "text/plain": [
       "[0, 3, 6, 9, 12, 15, 18, 21, 24, 27, 30]"
      ]
     },
     "execution_count": 4,
     "metadata": {},
     "output_type": "execute_result"
    }
   ],
   "source": [
    "'''\n",
    "1) list of integers multiplied by 3\n",
    "'''\n",
    "multiply_by_three = map(lambda x: x * 3, data)\n",
    "multiply_by_three"
   ]
  },
  {
   "cell_type": "code",
   "execution_count": 5,
   "metadata": {
    "collapsed": false
   },
   "outputs": [
    {
     "data": {
      "text/plain": [
       "55"
      ]
     },
     "execution_count": 5,
     "metadata": {},
     "output_type": "execute_result"
    }
   ],
   "source": [
    "'''\n",
    "2) sum of all the values in the original array\n",
    "'''\n",
    "sum_of_all_values = reduce(lambda x,y: x + y, data)\n",
    "sum_of_all_values"
   ]
  },
  {
   "cell_type": "markdown",
   "metadata": {},
   "source": [
    "## Classes\n",
    "1. Write a class called Wizard with the following attributes: name, hogwarts_house, and patronus\n",
    "2. Now write a method cast_spell() for that class, that prints out a spell \n",
    "3. Create an instance of the Wizard class and print out the attributes"
   ]
  },
  {
   "cell_type": "code",
   "execution_count": 16,
   "metadata": {
    "collapsed": false
   },
   "outputs": [
    {
     "name": "stdout",
     "output_type": "stream",
     "text": [
      "Attributes of Wizard object:  {'hogwarts_house': 'Gryffindor', 'spell': 'Alohomora', 'patronus': 'Phoenix', 'name': 'Albus Dumbledore'}\n",
      "Dumbledore casts:  Alohomora\n"
     ]
    }
   ],
   "source": [
    "'''\n",
    "class called Wizard\n",
    "'''\n",
    "class Wizard(object):\n",
    "    def __init__(self, name, hogwarts_house, patronus, spell):\n",
    "        self.name = name\n",
    "        self.hogwarts_house = hogwarts_house\n",
    "        self.patronus = patronus\n",
    "        self.spell = spell\n",
    "    \n",
    "    def cast_spell(self):\n",
    "        return self.spell\n",
    "    \n",
    "    \n",
    "# Create an instance of the Wizard class and print out the attributes\n",
    "dumbledore = Wizard('Albus Dumbledore', 'Gryffindor', 'Phoenix', 'Alohomora')\n",
    "print \"Attributes of Wizard object: \", vars(dumbledore)\n",
    "\n",
    "# Alohomora - Used to open and unlock doors\n",
    "print 'Dumbledore casts: ', dumbledore.cast_spell()"
   ]
  },
  {
   "cell_type": "markdown",
   "metadata": {},
   "source": [
    "## Working with Files\n",
    "\n",
    "Write the following dictionary to a csv file:\n",
    "\n",
    "\twizard_data = {'wizard_firstname': ['Godric', 'Salazar', 'Rowena', 'Helga'],\n",
    "\t\t'wizard_lastname': ['Gryffindor', 'Slytherin', 'Ravenclaw','Hufflepuff'],\n",
    "\t\t'house_symbol': ['Lion', 'Snake', 'Eagle', 'Badger'],\n",
    "        'age': [5340, 4101, 8340, 3450],\n",
    "        'favorite_treat': ['cauldron cakes','chocolate frogs','butter beer', 'pumpkin pasties']\n",
    "        }\n",
    "\n",
    "\n",
    "\n",
    "Parsing & Iterators\n",
    "\n",
    "1. Write a loop to print out the favorite_treats key in the wizard_data dictionary\n",
    "2. Print just the values in the dictionary without using a loop \n",
    "\n",
    "** Answer **"
   ]
  },
  {
   "cell_type": "code",
   "execution_count": 21,
   "metadata": {
    "collapsed": false
   },
   "outputs": [],
   "source": [
    "import csv\n",
    "wizard_data = {'wizard_firstname': ['Godric', 'Salazar', 'Rowena', 'Helga'],\n",
    "               'wizard_lastname': ['Gryffindor', 'Slytherin', 'Ravenclaw','Hufflepuff'],\n",
    "               'house_symbol': ['Lion', 'Snake', 'Eagle', 'Badger'],\n",
    "               'age': [5340, 4101, 8340, 3450],\n",
    "               'favorite_treat': ['cauldron cakes','chocolate frogs','butter beer', 'pumpkin pasties']\n",
    "}\n",
    "\n",
    "with open('dict.csv', 'wb') as csv_file:\n",
    "    writer = csv.writer(csv_file)\n",
    "    for key, value in wizard_data.items():\n",
    "       writer.writerow([key, value])\n",
    "'''\n",
    "Output stored in dict.csv:\n",
    "\n",
    "age,\"[5340, 4101, 8340, 3450]\"\n",
    "house_symbol,\"['Lion', 'Snake', 'Eagle', 'Badger']\"\n",
    "favorite_treat,\"['cauldron cakes', 'chocolate frogs', 'butter beer', 'pumpkin pasties']\"\n",
    "wizard_lastname,\"['Gryffindor', 'Slytherin', 'Ravenclaw', 'Hufflepuff']\"\n",
    "wizard_firstname,\"['Godric', 'Salazar', 'Rowena', 'Helga']\"\n",
    "'''"
   ]
  },
  {
   "cell_type": "code",
   "execution_count": 28,
   "metadata": {
    "collapsed": false
   },
   "outputs": [
    {
     "name": "stdout",
     "output_type": "stream",
     "text": [
      "favorite_treat ['cauldron cakes', 'chocolate frogs', 'butter beer', 'pumpkin pasties']\n"
     ]
    }
   ],
   "source": [
    "'''\n",
    "Write a loop to print out the favorite_treats key in the wizard_data dictionary\n",
    "'''\n",
    "for k,v in wizard_data.items():\n",
    "    if k == 'favorite_treat':\n",
    "        print k,v"
   ]
  },
  {
   "cell_type": "code",
   "execution_count": 30,
   "metadata": {
    "collapsed": false
   },
   "outputs": [
    {
     "name": "stdout",
     "output_type": "stream",
     "text": [
      "[[5340, 4101, 8340, 3450],\n",
      " ['Lion', 'Snake', 'Eagle', 'Badger'],\n",
      " ['cauldron cakes', 'chocolate frogs', 'butter beer', 'pumpkin pasties'],\n",
      " ['Gryffindor', 'Slytherin', 'Ravenclaw', 'Hufflepuff'],\n",
      " ['Godric', 'Salazar', 'Rowena', 'Helga']]\n"
     ]
    }
   ],
   "source": [
    "'''\n",
    "Print just the values in the dictionary without using a loop \n",
    "'''\n",
    "import pprint\n",
    "pprint.pprint(wizard_data.values())"
   ]
  },
  {
   "cell_type": "markdown",
   "metadata": {},
   "source": [
    "## Working with Databases \n",
    "Given the connection below write a sql query to pull the first 10 rows from public.fake_database\n",
    "\n",
    "\t\timport psycopg2\n",
    "\n",
    "\t\tconn = psycopg2.connect(host=,\n",
    "\t\t\tport=,\n",
    "\t\t\tuser=,\n",
    "\t\t\tpasswd=,\n",
    "\t\t\tdb=)\n",
    "\n",
    "\t\tcur = conn.cursor()\n",
    "\n",
    "\t\tINSERT CODE BELOW\n",
    "\n",
    "\n",
    "\n",
    "** Answer **"
   ]
  },
  {
   "cell_type": "code",
   "execution_count": null,
   "metadata": {
    "collapsed": false
   },
   "outputs": [],
   "source": [
    "import psycopg2\n",
    "conn = psycopg2.connect(\"dbname=public.fake_database user=postgres\")\n",
    "cur = conn.cursor()\n",
    "cur.execute(\"Select * From public.fake_database LIMIT 10;\")\n",
    "cur.close()\n",
    "conn.close()"
   ]
  },
  {
   "cell_type": "markdown",
   "metadata": {},
   "source": [
    "Create a table and write the following dictionary to a table called public.hogwarts using psycopg2\n",
    "\n",
    "\t\twizard_dict = ({\"first_name\":\"Hermione\", \"last_name\":\"Granger\"},\n",
    "\t\t\t            {\"first_name\":\"Harry\", \"last_name\":\"Potter\"},\n",
    "\t\t\t            {\"first_name\":\"Ronald\", \"last_name\":\"Weasley\"})\n",
    "                        \n",
    "** Answer **"
   ]
  },
  {
   "cell_type": "code",
   "execution_count": null,
   "metadata": {
    "collapsed": true
   },
   "outputs": [],
   "source": [
    "conn = psycopg2.connect(\"dbname=public.fake_database user=postgres\")\n",
    "cur = conn.cursor()\n",
    "cur.execute(\"CREATE TABLE public.hogwarts (id serial PRIMARY KEY, first_name varchar, last_name varchar);\")\n",
    "cur.execute(\"INSERT INTO public.hogwarts (first_name, last_name) VALUES (%s, %s)\",('Hermione', \"Granger\"))\n",
    "cur.execute(\"INSERT INTO public.hogwarts (first_name, last_name) VALUES (%s, %s)\",('Harry', \"Potter\"))\n",
    "cur.execute(\"INSERT INTO public.hogwarts (first_name, last_name) VALUES (%s, %s)\",('Ronald', \"Weasley\"))\n",
    "conn.commit()\n",
    "cur.close()\n",
    "conn.close()"
   ]
  }
 ],
 "metadata": {
  "kernelspec": {
   "display_name": "Python 2",
   "language": "python",
   "name": "python2"
  },
  "language_info": {
   "codemirror_mode": {
    "name": "ipython",
    "version": 2
   },
   "file_extension": ".py",
   "mimetype": "text/x-python",
   "name": "python",
   "nbconvert_exporter": "python",
   "pygments_lexer": "ipython2",
   "version": "2.7.12"
  }
 },
 "nbformat": 4,
 "nbformat_minor": 0
}
